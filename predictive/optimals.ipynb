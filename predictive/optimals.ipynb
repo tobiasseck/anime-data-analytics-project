{
 "cells": [
  {
   "cell_type": "code",
   "execution_count": 1,
   "metadata": {},
   "outputs": [],
   "source": [
    "import pandas as pd\n",
    "import numpy as np\n",
    "import pickle\n",
    "import itertools\n",
    "from sklearn.ensemble import RandomForestRegressor\n",
    "from sklearn.preprocessing import StandardScaler\n",
    "from multiprocessing import Pool, cpu_count\n",
    "from tqdm import tqdm"
   ]
  },
  {
   "cell_type": "code",
   "execution_count": 2,
   "metadata": {},
   "outputs": [],
   "source": [
    "def load_models_and_data():\n",
    "    model = {}\n",
    "    prepared_data = {}\n",
    "\n",
    "    model_path = '../streamlit-app/models/random_forest.pkl'\n",
    "    data_path = '../streamlit-app/data/prepared_random_forest_data.pkl'\n",
    "    \n",
    "    try:\n",
    "        with open(model_path, 'rb') as f:\n",
    "            model = pickle.load(f)\n",
    "        with open(data_path, 'rb') as f:\n",
    "            prepared_data = pickle.load(f)\n",
    "    except Exception as e:\n",
    "        print(f\"Failed to load {model} model or data: {str(e)}\")\n",
    "        return None, None\n",
    "    \n",
    "    return model, prepared_data\n",
    "\n",
    "model, prepared_data = load_models_and_data()\n",
    "\n",
    "genres = [\"Action\", \"Adventure\", \"Comedy\", \"Drama\", \"Sci-Fi\", \"Fantasy\", \"Romance\", \"Slice of Life\",\n",
    "          \"Mystery\", \"Supernatural\", \"Sports\", \"Historical\", \"Horror\", \"Psychological\", \"Thriller\",\n",
    "          \"Ecchi\", \"Mecha\", \"Music\", \"Harem\", \"Gourmet\", \"Parody\", \"Dementia\", \"Super Power\", \"School\",\n",
    "          \"Josei\", \"Vampire\", \"Hentai\", \"Police\", \"Space\", \"Demons\", \"Martial Arts\", \"Military\", \"Cars\",\n",
    "          \"Samurai\", \"Magic\", \"Kids\", \"Game\", \"Shoujo Ai\", \"Shounen Ai\", \"Yaoi\", \"Yuri\", \"Isekai\",\n",
    "          \"Seinen\", \"Shounen\"]\n",
    "\n",
    "types = [\"TV\", \"Movie\", \"OVA\", \"ONA\", \"Special\", \"Music\", \"PV\", \"CM\", \"TV Special\"]\n",
    "\n",
    "sources = [\"Original\", \"Manga\", \"Light novel\", \"Visual novel\", \"Game\", \"Novel\", \"4-koma manga\", \"Book\",\n",
    "           \"Card game\", \"Music\", \"Mixed media\", \"Picture book\", \"Web manga\", \"Other\"]\n",
    "\n",
    "demographics = [\"Shounen\", \"Seinen\", \"Shoujo\", \"Josei\", \"Kids\"]\n",
    "\n",
    "all_features = {\n",
    "    'type': types,\n",
    "    'source': sources,\n",
    "    'demographic': demographics,\n",
    "    'genre': genres,\n",
    "    'producers_count': range(1, 21),\n",
    "    'platform_count': range(1, 11)\n",
    "}"
   ]
  },
  {
   "cell_type": "code",
   "execution_count": 3,
   "metadata": {},
   "outputs": [],
   "source": [
    "def preprocess_features(features, model, prepared_data):\n",
    "    expected_features = model.feature_names_in_.tolist()\n",
    "    processed_features = pd.DataFrame(index=features.index)\n",
    "\n",
    "    if 'genre' in features.columns:\n",
    "        genres = features['genre'].apply(lambda x: ','.join(x) if isinstance(x, list) else x)\n",
    "        for char in set(''.join(expected_features)):\n",
    "            if char.isalnum() or char in [\"'\", ' ', ',']:\n",
    "                processed_features[char] = genres.str.contains(char).astype(int)\n",
    "\n",
    "    categorical_features = ['type', 'source', 'demographic']\n",
    "    for feature in categorical_features:\n",
    "        if feature in features.columns:\n",
    "            for expected_feature in expected_features:\n",
    "                if expected_feature.startswith(f\"{feature.capitalize()}_\"):\n",
    "                    category = expected_feature.split('_', 1)[1]\n",
    "                    processed_features[expected_feature] = (features[feature] == category).astype(int)\n",
    "\n",
    "    if 'producers_count' in features.columns:\n",
    "        processed_features['Producer_Count'] = features['producers_count']\n",
    "    if 'platform_count' in features.columns:\n",
    "        processed_features['Platform_Count'] = features['platform_count']\n",
    "\n",
    "    scaler = prepared_data.get('scaler')\n",
    "    if scaler:\n",
    "        numerical_features = ['Producer_Count', 'Platform_Count']\n",
    "        processed_features[numerical_features] = scaler.transform(processed_features[numerical_features])\n",
    "\n",
    "    for feature in expected_features:\n",
    "        if feature not in processed_features.columns:\n",
    "            processed_features[feature] = 0\n",
    "\n",
    "    processed_features = processed_features[expected_features]\n",
    "\n",
    "    return processed_features"
   ]
  },
  {
   "cell_type": "code",
   "execution_count": 4,
   "metadata": {},
   "outputs": [],
   "source": [
    "def evaluate_combination(combination):\n",
    "    features = pd.DataFrame([dict(zip(all_features.keys(), combination))])\n",
    "    processed_features = preprocess_features(features, model, prepared_data)\n",
    "    rank = model.predict(processed_features)[0]\n",
    "    return combination, rank\n",
    "\n",
    "def find_optimal_combination(fixed_features=None):\n",
    "    if fixed_features:\n",
    "        for feature, value in fixed_features.items():\n",
    "            all_features[feature] = [value]\n",
    "    \n",
    "    combinations = list(itertools.product(*all_features.values()))\n",
    "    best_combination = None\n",
    "    best_rank = float('inf')\n",
    "\n",
    "    with Pool(cpu_count()) as pool:\n",
    "        for combination, rank in tqdm(pool.imap_unordered(evaluate_combination, combinations), total=len(combinations)):\n",
    "            if rank < best_rank:\n",
    "                best_rank = rank\n",
    "                best_combination = dict(zip(all_features.keys(), combination))\n",
    "    \n",
    "    return best_combination, best_rank"
   ]
  },
  {
   "cell_type": "code",
   "execution_count": 5,
   "metadata": {},
   "outputs": [
    {
     "name": "stderr",
     "output_type": "stream",
     "text": [
      "  0%|          | 0/5544000 [00:00<?, ?it/s]"
     ]
    }
   ],
   "source": [
    "overall_best_combo, overall_best_rank = find_optimal_combination()"
   ]
  },
  {
   "cell_type": "code",
   "execution_count": null,
   "metadata": {},
   "outputs": [],
   "source": [
    "with open('../streamlit-app/models/overall_best_combination.pkl', 'wb') as f:\n",
    "    pickle.dump((overall_best_combo, overall_best_rank), f)"
   ]
  },
  {
   "cell_type": "code",
   "execution_count": null,
   "metadata": {},
   "outputs": [],
   "source": [
    "specific_best_combos = {}\n",
    "for feature in ['type', 'source', 'demographic', 'genre']:\n",
    "    specific_best_combos[feature] = {}\n",
    "    for value in all_features[feature]:\n",
    "        best_combo, best_rank = find_optimal_combination({feature: value})\n",
    "        specific_best_combos[feature][value] = (best_combo, best_rank)"
   ]
  },
  {
   "cell_type": "code",
   "execution_count": null,
   "metadata": {},
   "outputs": [],
   "source": [
    "with open('../streamlit-app/models/specific_best_combinations.pkl', 'wb') as f:\n",
    "    pickle.dump(specific_best_combos, f)"
   ]
  }
 ],
 "metadata": {
  "kernelspec": {
   "display_name": "anime-venv",
   "language": "python",
   "name": "anime-venv"
  },
  "language_info": {
   "codemirror_mode": {
    "name": "ipython",
    "version": 3
   },
   "file_extension": ".py",
   "mimetype": "text/x-python",
   "name": "python",
   "nbconvert_exporter": "python",
   "pygments_lexer": "ipython3",
   "version": "3.10.14"
  }
 },
 "nbformat": 4,
 "nbformat_minor": 2
}
