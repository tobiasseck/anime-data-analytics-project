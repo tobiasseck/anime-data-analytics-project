{
 "cells": [
  {
   "cell_type": "code",
   "execution_count": null,
   "metadata": {},
   "outputs": [],
   "source": [
    "import pandas as pd\n",
    "import matplotlib.pyplot as plt\n",
    "import seaborn as sns\n",
    "from sklearn.preprocessing import MultiLabelBinarizer\n",
    "from itertools import combinations\n",
    "from multiprocessing import Pool, cpu_count\n",
    "import numpy as np\n",
    "from tqdm import tqdm"
   ]
  },
  {
   "cell_type": "code",
   "execution_count": null,
   "metadata": {},
   "outputs": [],
   "source": [
    "animes_df = pd.read_csv(\"./data/animes.csv\")\n",
    "animes_df.info()"
   ]
  },
  {
   "cell_type": "code",
   "execution_count": null,
   "metadata": {},
   "outputs": [],
   "source": [
    "animes_df = animes_df.drop_duplicates(subset=['uid'], keep='first')\n",
    "animes_df.head()"
   ]
  },
  {
   "cell_type": "code",
   "execution_count": null,
   "metadata": {},
   "outputs": [],
   "source": [
    "mlb = MultiLabelBinarizer()\n",
    "genre_matrix = mlb.fit_transform(animes_df['genre'])\n",
    "genre_df = pd.DataFrame(genre_matrix, columns=mlb.classes_, index=animes_df.index)\n",
    "\n",
    "genre_df['popularity'] = animes_df['popularity']\n",
    "\n",
    "genre_corr = genre_df.corr()\n",
    "\n",
    "genre_corr_popularity = genre_corr['popularity'].drop('popularity').sort_values(key=abs, ascending=False)\n",
    "\n",
    "print(\"Top Genres Correlated with Popularity:\\n\", genre_corr_popularity.head(20))\n",
    "\n",
    "def plot_correlations(correlations, title):\n",
    "    plt.figure(figsize=(16, 8))\n",
    "    correlations.plot(kind='barh')\n",
    "    plt.title(title)\n",
    "    plt.xlabel('Correlation')\n",
    "    plt.ylabel('Genres')\n",
    "    plt.show()\n",
    "\n",
    "plot_correlations(genre_corr_popularity.head(20), 'Top 20 Genres Correlated with Popularity')"
   ]
  },
  {
   "cell_type": "code",
   "execution_count": null,
   "metadata": {},
   "outputs": [],
   "source": [
    "def generate_combinations(genres, n):\n",
    "    return list(combinations(genres, n))\n",
    "\n",
    "def flatten_combinations(combinations_list):\n",
    "    return [' & '.join(combo) for combo in combinations_list]\n",
    "\n",
    "def process_genre_combinations(df_chunk, n):\n",
    "    return df_chunk.apply(lambda row: flatten_combinations(generate_combinations(row['genre'], n)), axis=1)\n",
    "\n",
    "def parallelize_dataframe(df, func, n):\n",
    "    df_split = np.array_split(df, cpu_count())\n",
    "    pool = Pool(cpu_count())\n",
    "    results = []\n",
    "    for chunk in tqdm(pool.imap_unordered(func, [(chunk, n) for chunk in df_split]), total=len(df_split)):\n",
    "        results.extend(chunk)\n",
    "    pool.close()\n",
    "    pool.join()\n",
    "    return pd.Series(results, index=df.index)\n",
    "\n",
    "tqdm.pandas()\n",
    "\n",
    "animes_df['genre_combinations_2'] = parallelize_dataframe(animes_df, process_genre_combinations, 2)\n",
    "animes_df['genre_combinations_3'] = parallelize_dataframe(animes_df, process_genre_combinations, 3)\n",
    "\n",
    "all_combinations = set(animes_df['genre_combinations_2'].sum() + animes_df['genre_combinations_3'].sum())\n",
    "\n",
    "mlb = MultiLabelBinarizer(classes=sorted(all_combinations))\n",
    "genre_comb_matrix_2 = mlb.fit_transform(animes_df['genre_combinations_2'])\n",
    "genre_comb_matrix_3 = mlb.fit_transform(animes_df['genre_combinations_3'])\n",
    "\n",
    "genre_comb_matrix = np.hstack([genre_comb_matrix_2, genre_comb_matrix_3])\n",
    "\n",
    "genre_comb_df = pd.DataFrame(genre_comb_matrix, columns=mlb.classes_, index=animes_df.index)\n",
    "\n",
    "genre_comb_df['popularity'] = animes_df['popularity']\n",
    "\n",
    "genre_comb_corr = genre_comb_df.corr()\n",
    "\n",
    "genre_comb_corr_popularity = genre_comb_corr['popularity'].drop('popularity').sort_values(key=abs, ascending=False)"
   ]
  },
  {
   "cell_type": "code",
   "execution_count": null,
   "metadata": {},
   "outputs": [],
   "source": [
    "print(\"Top Genre Combinations Correlated with Popularity:\\n\", genre_comb_corr_popularity.head(20))\n",
    "\n",
    "def plot_correlations(correlations, title):\n",
    "    plt.figure(figsize=(10, 8))\n",
    "    correlations.plot(kind='barh')\n",
    "    plt.title(title)\n",
    "    plt.xlabel('Correlation')\n",
    "    plt.ylabel('Genre Combinations')\n",
    "    plt.show()\n",
    "\n",
    "plot_correlations(genre_comb_corr_popularity.head(20), 'Top 20 Genre Combinations Correlated with Popularity')"
   ]
  }
 ],
 "metadata": {
  "language_info": {
   "name": "python"
  }
 },
 "nbformat": 4,
 "nbformat_minor": 2
}
