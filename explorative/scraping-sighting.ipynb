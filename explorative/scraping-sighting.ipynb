{
 "cells": [
  {
   "cell_type": "code",
   "execution_count": 1,
   "metadata": {},
   "outputs": [],
   "source": [
    "import pandas as pd\n"
   ]
  },
  {
   "cell_type": "code",
   "execution_count": 6,
   "metadata": {},
   "outputs": [
    {
     "name": "stdout",
     "output_type": "stream",
     "text": [
      "<class 'pandas.core.frame.DataFrame'>\n",
      "RangeIndex: 16216 entries, 0 to 16215\n",
      "Data columns (total 10 columns):\n",
      " #   Column               Non-Null Count  Dtype \n",
      "---  ------               --------------  ----- \n",
      " 0   uid                  16216 non-null  int64 \n",
      " 1   Type                 16054 non-null  object\n",
      " 2   Producers            16216 non-null  object\n",
      " 3   Studios              16216 non-null  object\n",
      " 4   Source               16054 non-null  object\n",
      " 5   Themes               16216 non-null  object\n",
      " 6   Demographic          5348 non-null   object\n",
      " 7   Duration             16054 non-null  object\n",
      " 8   Favorites            16054 non-null  object\n",
      " 9   Streaming Platforms  16216 non-null  object\n",
      "dtypes: int64(1), object(9)\n",
      "memory usage: 1.2+ MB\n"
     ]
    }
   ],
   "source": [
    "scraping_df = pd.read_csv(\"../data/scraped_anime_data_final_protected.csv\")\n",
    "\n",
    "scraping_df.info()"
   ]
  }
 ],
 "metadata": {
  "kernelspec": {
   "display_name": "anime-venv",
   "language": "python",
   "name": "anime-venv"
  },
  "language_info": {
   "codemirror_mode": {
    "name": "ipython",
    "version": 3
   },
   "file_extension": ".py",
   "mimetype": "text/x-python",
   "name": "python",
   "nbconvert_exporter": "python",
   "pygments_lexer": "ipython3",
   "version": "3.10.14"
  }
 },
 "nbformat": 4,
 "nbformat_minor": 2
}
